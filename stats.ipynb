{
 "cells": [
  {
   "cell_type": "code",
   "execution_count": 1,
   "metadata": {},
   "outputs": [],
   "source": [
    "import os\n",
    "from collections import defaultdict\n",
    "import matplotlib as mpl\n",
    "import matplotlib.pyplot as plt\n",
    "import numpy as np\n",
    "import pandas as pd\n",
    "path = \"./Predictions_3_files/\"\n",
    "mpl.axes.titlesize=14\n",
    "mpl.axes.labelsize=14"
   ]
  },
  {
   "cell_type": "code",
   "execution_count": 6,
   "metadata": {},
   "outputs": [
    {
     "name": "stdout",
     "output_type": "stream",
     "text": [
      "./Predictions_3_files/L2S/prose.conll\n",
      "./Predictions_3_files/L2S/poetry.conll\n",
      "./Predictions_3_files/L2S/Test.conll\n",
      "./Predictions_3_files/yap/prose.conll\n",
      "./Predictions_3_files/yap/poetry.conll\n",
      "./Predictions_3_files/yap/Test.conll\n",
      "./Predictions_3_files/DCST/poetry_final.conll\n",
      "./Predictions_3_files/DCST/prose_final.conll\n",
      "./Predictions_3_files/DCST/Test.conll\n",
      "./Predictions_3_files/BiAFF/poetry_final.conll\n",
      "./Predictions_3_files/BiAFF/prose_final.conll\n",
      "./Predictions_3_files/BiAFF/Test.conll\n"
     ]
    }
   ],
   "source": [
    "overAllDict = defaultdict(dict)\n",
    "for item in os.listdir(path): \n",
    "    if os.path.isdir(path+item):\n",
    "        for filName in os.listdir(path+item): # file\n",
    "            sentDicts = list()\n",
    "            f = open(path+item+\"/\"+filName).read().split(\"\\n\\n\")             #open the fil\n",
    "            print(path+item+\"/\"+filName)\n",
    "            lines = [stuff.split(\"\\n\") for stuff in f] #get all the lines\n",
    "            sentID = 1\n",
    "            keys = [stuff.split(\"\\t\") for stuff in lines[0]][0]"
   ]
  },
  {
   "cell_type": "code",
   "execution_count": 7,
   "metadata": {},
   "outputs": [
    {
     "data": {
      "text/plain": [
       "['word_id',\n",
       " 'word',\n",
       " 'postag',\n",
       " 'lemma',\n",
       " 'gold_head',\n",
       " 'gold_label',\n",
       " 'pred_head',\n",
       " 'pred_label']"
      ]
     },
     "execution_count": 7,
     "metadata": {},
     "output_type": "execute_result"
    }
   ],
   "source": [
    "keys"
   ]
  }
 ],
 "metadata": {
  "kernelspec": {
   "display_name": "Python 3",
   "language": "python",
   "name": "python3"
  },
  "language_info": {
   "codemirror_mode": {
    "name": "ipython",
    "version": 3
   },
   "file_extension": ".py",
   "mimetype": "text/x-python",
   "name": "python",
   "nbconvert_exporter": "python",
   "pygments_lexer": "ipython3",
   "version": "3.7.3"
  }
 },
 "nbformat": 4,
 "nbformat_minor": 2
}
