{
 "cells": [
  {
   "cell_type": "code",
   "execution_count": 25,
   "metadata": {},
   "outputs": [
    {
     "name": "stdout",
     "output_type": "stream",
     "text": [
      "0.683663878437553\n"
     ]
    },
    {
     "data": {
      "text/plain": [
       "(0.6600382570497063, 1300)"
      ]
     },
     "execution_count": 25,
     "metadata": {},
     "output_type": "execute_result"
    }
   ],
   "source": [
    "f = open(\"Predictions_3_files/results1_las.txt\").read().splitlines()\n",
    "f = [float(item) for item in f]\n",
    "print(sum(f)/len(f))\n",
    "k = open(\"Predictions_3_files/results2_las.txt\").read().splitlines()\n",
    "k = [float(item) for item in k]\n",
    "f.extend(k)\n",
    "sum(f)/len(f),len(f)"
   ]
  },
  {
   "cell_type": "code",
   "execution_count": 9,
   "metadata": {},
   "outputs": [
    {
     "data": {
      "text/plain": [
       "0.8234639419695817"
      ]
     },
     "execution_count": 9,
     "metadata": {},
     "output_type": "execute_result"
    }
   ],
   "source": [
    "BiAff - 82.35,75.65\n",
    "DCSST - 84.36,76.8\n",
    "L2S - 81.9,72.46\n",
    "YAP - 75.3,66"
   ]
  }
 ],
 "metadata": {
  "kernelspec": {
   "display_name": "Python 3",
   "language": "python",
   "name": "python3"
  },
  "language_info": {
   "codemirror_mode": {
    "name": "ipython",
    "version": 3
   },
   "file_extension": ".py",
   "mimetype": "text/x-python",
   "name": "python",
   "nbconvert_exporter": "python",
   "pygments_lexer": "ipython3",
   "version": "3.7.3"
  }
 },
 "nbformat": 4,
 "nbformat_minor": 2
}
