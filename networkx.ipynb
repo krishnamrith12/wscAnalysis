{
 "cells": [
  {
   "cell_type": "code",
   "execution_count": 123,
   "metadata": {},
   "outputs": [
    {
     "name": "stdout",
     "output_type": "stream",
     "text": [
      "2.4\n"
     ]
    }
   ],
   "source": [
    "#works with networkx 2.4 - upgrade to 2.4\n",
    "#!pip install --upgrade networkx \n",
    "\n",
    "import pandas as pd\n",
    "import networkx as nx\n",
    "from networkx.algorithms.traversal.depth_first_search import dfs_tree\n",
    "\n",
    "print(nx.__version__)"
   ]
  },
  {
   "cell_type": "code",
   "execution_count": 89,
   "metadata": {},
   "outputs": [
    {
     "data": {
      "text/plain": [
       "['word_id',\n",
       " 'word',\n",
       " 'postag',\n",
       " 'lemma',\n",
       " 'gold_head',\n",
       " 'gold_label',\n",
       " 'pred_head',\n",
       " 'pred_label']"
      ]
     },
     "execution_count": 89,
     "metadata": {},
     "output_type": "execute_result"
    }
   ],
   "source": [
    "f = open(\"Predictions_3_files/DCST/poetry_final.conll\").read().split(\"\\n\\n\")\n",
    "headers = f[0].split(\"\\t\")\n",
    "\n",
    "headDict = dict()\n",
    "for item in headers:\n",
    "    headDict[item] = \"\"\n",
    "headers"
   ]
  },
  {
   "cell_type": "code",
   "execution_count": 96,
   "metadata": {},
   "outputs": [
    {
     "data": {
      "text/plain": [
       "[('0', '1', {'head_label': 'root'}),\n",
       " ('1', '2', {'head_label': 'sambanxah'}),\n",
       " ('1', '3', {'head_label': 'karma'}),\n",
       " ('1', '6', {'head_label': 'karwa'}),\n",
       " ('1', '7', {'head_label': 'axikaranam'}),\n",
       " ('3', '8', {'head_label': 'rartisambanxah'}),\n",
       " ('7', '4', {'head_label': 'viseranam'}),\n",
       " ('7', '5', {'head_label': 'viseranam'})]"
      ]
     },
     "execution_count": 96,
     "metadata": {},
     "output_type": "execute_result"
    }
   ],
   "source": [
    "sent = f[1]\n",
    "lines = sent.split(\"\\n\")\n",
    "G=nx.DiGraph()\n",
    "attDict = dict()\n",
    "relDict = dict()\n",
    "for item in [str(i) for i in range(len(lines)+1)]:\n",
    "    attDict[item] = headDict\n",
    "G.add_nodes_from([str(i) for i in range(len(lines)+1)])\n",
    "for line in lines:\n",
    "    cols = line.split(\"\\t\")\n",
    "    for i,item in enumerate(headers):\n",
    "        attDict[cols[0]][item] = cols[i]\n",
    "    G.add_edge(cols[4],cols[0]) # change cols[4] to cols[6] for getting predicted tree\n",
    "    relDict[(cols[4],cols[0])] = {\"head_label\":cols[5]} #change cols[5] to cols[7] for getting predicted tree. Also 4 to 6\n",
    "nx.set_node_attributes(G, attDict)\n",
    "nx.set_edge_attributes(G, relDict)\n",
    "list(G.edges(data=True))"
   ]
  },
  {
   "cell_type": "code",
   "execution_count": 103,
   "metadata": {},
   "outputs": [],
   "source": [
    "data = nx.tree_data(G, root=\"0\")\n",
    "tree = nx.tree_graph(data)"
   ]
  },
  {
   "cell_type": "code",
   "execution_count": 109,
   "metadata": {},
   "outputs": [
    {
     "data": {
      "text/plain": [
       "AtlasView({'2': {}, '3': {}, '6': {}, '7': {}})"
      ]
     },
     "execution_count": 109,
     "metadata": {},
     "output_type": "execute_result"
    }
   ],
   "source": [
    "tree[\"1\"]"
   ]
  },
  {
   "cell_type": "code",
   "execution_count": 117,
   "metadata": {},
   "outputs": [
    {
     "data": {
      "text/plain": [
       "(['1'], ['2', '3', '6', '7'])"
      ]
     },
     "execution_count": 117,
     "metadata": {},
     "output_type": "execute_result"
    }
   ],
   "source": [
    "list(G.predecessors(\"2\")), list(G.successors(\"1\"))"
   ]
  },
  {
   "cell_type": "code",
   "execution_count": 244,
   "metadata": {},
   "outputs": [],
   "source": [
    "from networkx.algorithms.traversal.depth_first_search import dfs_tree\n",
    "\n",
    "def optimalDL(depTree, rootNode = \"0\"):\n",
    "    assert nx.is_tree(G) \n",
    "\n",
    "    currNodeList = [rootNode]\n",
    "    levelOrder = dict()\n",
    "    while len(currNodeList) >0:\n",
    "        currNode = currNodeList.pop(0)\n",
    "        \n",
    "        succNodes = list(depTree.successors(currNode))\n",
    "        \n",
    "        if len(succNodes) == 0:\n",
    "            continue\n",
    "        \n",
    "        succChildSize = dict()\n",
    "        for item in succNodes:\n",
    "            succChildSize[item] = len(dfs_tree(depTree,item).nodes())\n",
    "            currNodeList.append(item)\n",
    "        \n",
    "        succChildSize = {k: v for k, v in sorted(succChildSize.items(), key=lambda item: item[1])}\n",
    " \n",
    "        \n",
    "        left = 1\n",
    "        _Order = [currNode]\n",
    "        for item in succChildSize:\n",
    "            \n",
    "            if left == 1:\n",
    "                _Order.insert(0,item)\n",
    "                left = 0\n",
    "            else:\n",
    "                _Order.append(item)\n",
    "                left = 1\n",
    "        levelOrder[currNode] = _Order\n",
    "    \n",
    "    \n",
    "\n",
    "\n",
    "    explored = set()\n",
    "    explored.add(\"0\")\n",
    "    toExplore = list(set(levelOrder[\"0\"]) - explored)\n",
    "    finalOrder = levelOrder[\"0\"]\n",
    "\n",
    "    \n",
    "\n",
    "    while len(toExplore) >0:\n",
    "        a = toExplore.pop()\n",
    "        explored.add(a)\n",
    "        for i,item in enumerate(finalOrder):\n",
    "            if item == a:\n",
    "                finalOrder[i] = levelOrder[a]\n",
    "        _ = list()\n",
    "        for item in finalOrder:\n",
    "            if type(item) == list:\n",
    "                for stuff in item:\n",
    "                    _.append(stuff)\n",
    "            else:\n",
    "                _.append(item)\n",
    "        \n",
    "        finalOrder = _.copy()\n",
    "        \n",
    "        for item in levelOrder[a]:\n",
    "            if item in levelOrder.keys():\n",
    "                if item not in explored:\n",
    "                    toExplore.append(item)\n",
    "        \n",
    "    assert  len(finalOrder) == len(set(finalOrder))\n",
    "    return finalOrder"
   ]
  },
  {
   "cell_type": "code",
   "execution_count": 246,
   "metadata": {},
   "outputs": [],
   "source": [
    "def depLen(inpGraph, order):\n",
    "    \"\"\"\n",
    "    Given a dependnecy tree and the linear order in which the words in the tsentence are arranged,\n",
    "    we calcualte the dependency length of the sentence\n",
    "    \n",
    "    inpGraph = tree as nx diGraph\n",
    "    order = list of word ids, based on their order (can be optimal, prose or poetry order)\n",
    "    \"\"\"\n",
    "    assert nx.is_tree(inpGraph)\n",
    "    print(order)\n",
    "    toExplore = [\"0\"]\n",
    "    dl = 0\n",
    "    while len(toExplore) > 0:\n",
    "        a = toExplore.pop()\n",
    "        sourIndex = order.index(a)\n",
    "        succNodes  = list(inpGraph.successors(a))\n",
    "        for item in succNodes:\n",
    "            tarIndex = order.index(item)\n",
    "            pairDiff = abs(sourIndex-tarIndex)\n",
    "            dl += pairDiff\n",
    "            if len(list(inpGraph.successors(item))) > 0:\n",
    "                toExplore.append(item)\n",
    "            print(dl, \"from: \" , a,\"to:\", item, \"palced apart:\",pairDiff, toExplore, succNodes)\n",
    "    return dl"
   ]
  },
  {
   "cell_type": "code",
   "execution_count": 245,
   "metadata": {},
   "outputs": [
    {
     "name": "stdout",
     "output_type": "stream",
     "text": [
      "['8', '3', '2', '1', '6', '4', '7', '5', '0']\n",
      "5 from:  0 to: 1 palced apart: 5 ['1'] ['1']\n",
      "6 from:  1 to: 2 palced apart: 1 [] ['2', '3', '6', '7']\n",
      "8 from:  1 to: 3 palced apart: 2 ['3'] ['2', '3', '6', '7']\n",
      "9 from:  1 to: 6 palced apart: 1 ['3'] ['2', '3', '6', '7']\n",
      "12 from:  1 to: 7 palced apart: 3 ['3', '7'] ['2', '3', '6', '7']\n",
      "13 from:  7 to: 4 palced apart: 1 ['3'] ['4', '5']\n",
      "14 from:  7 to: 5 palced apart: 1 ['3'] ['4', '5']\n",
      "15 from:  3 to: 8 palced apart: 1 [] ['8']\n"
     ]
    },
    {
     "data": {
      "text/plain": [
       "15"
      ]
     },
     "execution_count": 245,
     "metadata": {},
     "output_type": "execute_result"
    }
   ],
   "source": [
    "optdl = optimalDL(G)\n",
    "depLen(G,optdl)"
   ]
  },
  {
   "cell_type": "code",
   "execution_count": 187,
   "metadata": {},
   "outputs": [
    {
     "data": {
      "text/plain": [
       "['0', '1', '2', '3', '8', '6', '7', '4', '5']"
      ]
     },
     "execution_count": 187,
     "metadata": {},
     "output_type": "execute_result"
    }
   ],
   "source": [
    "list(dfs_tree(G,\"0\"))"
   ]
  },
  {
   "cell_type": "code",
   "execution_count": 143,
   "metadata": {},
   "outputs": [
    {
     "data": {
      "text/plain": [
       "8"
      ]
     },
     "execution_count": 143,
     "metadata": {},
     "output_type": "execute_result"
    }
   ],
   "source": [
    "\n",
    "subtree_at_2 = dfs_tree(G, \"1\")\n",
    "len(subtree_at_2.nodes())"
   ]
  },
  {
   "cell_type": "code",
   "execution_count": 156,
   "metadata": {},
   "outputs": [
    {
     "data": {
      "text/plain": [
       "(4, [5, 3])"
      ]
     },
     "execution_count": 156,
     "metadata": {},
     "output_type": "execute_result"
    }
   ],
   "source": [
    "a= [5]\n",
    "a.insert(0,4)\n",
    "a.append(3)\n",
    "a.pop(0),a"
   ]
  }
 ],
 "metadata": {
  "kernelspec": {
   "display_name": "Python 3",
   "language": "python",
   "name": "python3"
  },
  "language_info": {
   "codemirror_mode": {
    "name": "ipython",
    "version": 3
   },
   "file_extension": ".py",
   "mimetype": "text/x-python",
   "name": "python",
   "nbconvert_exporter": "python",
   "pygments_lexer": "ipython3",
   "version": "3.7.3"
  }
 },
 "nbformat": 4,
 "nbformat_minor": 2
}
